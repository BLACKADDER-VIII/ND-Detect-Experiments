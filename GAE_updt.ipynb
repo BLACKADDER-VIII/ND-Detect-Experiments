{
 "cells": [
  {
   "cell_type": "code",
   "execution_count": 10,
   "metadata": {
    "collapsed": true
   },
   "outputs": [],
   "source": [
    "import torch, networkx as nx, torch_geometric, numpy as np, random, calflops\n",
    "from torch_geometric.nn import GCNConv, GATConv\n",
    "device = torch.device('cuda:0')"
   ]
  },
  {
   "cell_type": "code",
   "execution_count": 11,
   "metadata": {
    "collapsed": false
   },
   "outputs": [],
   "source": [
    "g1 = nx.read_graphml('msg_big_0.graphml')\n",
    "g2 = nx.read_graphml('msg_big_1.graphml')\n",
    "NUM_PROCS=16\n",
    "NUM_EPOCHS = 1000\n",
    "NUM_EXPS = 50"
   ]
  },
  {
   "cell_type": "code",
   "execution_count": 19,
   "metadata": {},
   "outputs": [
    {
     "data": {
      "text/plain": [
       "660"
      ]
     },
     "execution_count": 19,
     "metadata": {},
     "output_type": "execute_result"
    }
   ],
   "source": [
    "len(g1.nodes)"
   ]
  },
  {
   "cell_type": "code",
   "execution_count": 12,
   "metadata": {
    "collapsed": false
   },
   "outputs": [],
   "source": [
    "class GCNEncoder(torch.nn.Module):\n",
    "\n",
    "    def __init__(self, in_channels, hidden_size, out_channels, dropout):\n",
    "        super(GCNEncoder, self).__init__()\n",
    "        self.conv1 = GATConv(in_channels, hidden_size)\n",
    "        self.conv2 = GATConv(hidden_size, out_channels)\n",
    "\n",
    "    # Our model will take the feature matrix X and the edge list\n",
    "    # representation of the graph as inputs.\n",
    "    def forward(self, x, edge_index):\n",
    "        x = self.conv1(x, edge_index).relu()\n",
    "        # x = self.dropout(x)\n",
    "        return self.conv2(x, edge_index)"
   ]
  },
  {
   "cell_type": "code",
   "execution_count": 13,
   "metadata": {},
   "outputs": [],
   "source": [
    "model = torch_geometric.nn.GAE(GCNEncoder(10, 512, 16, 0.0)).to(device)\n",
    "optimizer = torch.optim.Adam(params=model.parameters(), lr=1e-4)\n",
    "amg_loss_curve = []"
   ]
  },
  {
   "cell_type": "code",
   "execution_count": 14,
   "metadata": {},
   "outputs": [],
   "source": [
    "def get_encodings(graphs):\n",
    "    e_i_arr = [nx.to_scipy_sparse_array(g1, format='coo') for g1 in graphs]\n",
    "    values = [e_i.data for e_i in e_i_arr]\n",
    "    indices = [np.vstack((e_i.row, e_i.col)) for e_i in e_i_arr]\n",
    "    e_i = [torch.sparse_coo_tensor(indices=indices[i], values = values[i], size=(len(graphs[i].nodes), len(graphs[i].nodes))).to(device).coalesce() for i in range(len(graphs))]\n",
    "    # MPI Dict\n",
    "    mpi_dict = {\"MPI_Init\": 0, 'MPI_Barrier': 1, 'MPI_Waitall': 2, 'MPI_Isend':3, 'MPI_Finalize':4, 'MPI_Send':5, 'MPI_Irecv':6, 'MPI_Recv':7, 'MPI_Wait':8}\n",
    "    # Feature matrix gen\n",
    "    #X = np.zeros((len(g1.nodes), 10+NUM_PROCS))\n",
    "    X = [np.zeros((len(graphs[i].nodes), 10)) for i in range(len(graphs))]\n",
    "    l = [list(graphs[i].nodes) for i in range(len(graphs))]\n",
    "    d = [dict(graphs[i].nodes(data=True)) for i in range(len(graphs))]\n",
    "    #p_id_arr = [[i for i in range(NUM_PROCS)]]\n",
    "    #random.shuffle(p_id_arr)\n",
    "    for j, k in enumerate(l):\n",
    "        for i, n in enumerate(k):\n",
    "            X[j][i][0] = d[j][n]['logical_time']\n",
    "            X[j][i][mpi_dict[d[j][n]['mpi_function']]] = 1\n",
    "            #X[i][int(10+p_id_arr[int(d[n]['process_id'])])] = 1\n",
    "    X = [torch.tensor(X[i]).to(device).float() for i in range(len(X))]\n",
    "    def train():\n",
    "        model.train()\n",
    "        losses = [0 for i in range(len(graphs))]\n",
    "        for i, g in enumerate(graphs):\n",
    "            optimizer.zero_grad()\n",
    "            z = model.encode(X[i], e_i[i])\n",
    "            loss = model.recon_loss(z, e_i[i].indices())\n",
    "            loss.backward(retain_graph=True)\n",
    "            optimizer.step()\n",
    "            losses.append(float(loss))\n",
    "        return losses\n",
    "    for epoch in range(NUM_EPOCHS):\n",
    "        l = train()\n",
    "        if epoch%10 == 0:\n",
    "            amg_loss_curve.append(l[2])\n",
    "    z = [model.encode(X[i], e_i[i]) for i in range(len(graphs))]\n",
    "    return z, model"
   ]
  },
  {
   "cell_type": "markdown",
   "metadata": {},
   "source": [
    "e1, enc1 = get_encodings(g1)\n",
    "e2, enc2 = get_encodings(g2)"
   ]
  },
  {
   "cell_type": "markdown",
   "metadata": {},
   "source": [
    "nodes_1 = list(g1.nodes)\n",
    "nodes_2 = list(g2.nodes)\n",
    "for i, n in enumerate(e1):\n",
    "    min_error = float('inf')\n",
    "    k = torch.kron(torch.ones(len(g1.nodes)).to(device), n).view(len(g1.nodes), -1)\n",
    "    res = (k-e2)**2\n",
    "    M[nodes_1[i]].append(nodes_2[int(torch.sum(res, 1).argmin())])"
   ]
  },
  {
   "cell_type": "code",
   "execution_count": 15,
   "metadata": {},
   "outputs": [],
   "source": [
    "align_ac = []\n",
    "encs = []\n",
    "for i in range(1):\n",
    "    #e1, enc1 = get_encodings(g1)\n",
    "    #e2, enc2 = get_encodings(g2)\n",
    "    e, enc = get_encodings([g1, g2])\n",
    "    M = {i:[] for i in g1.nodes}\n",
    "    nodes_1 = list(g1.nodes)\n",
    "    nodes_2 = list(g2.nodes)\n",
    "    for i, n in enumerate(e[0]):\n",
    "        min_error = float('inf')\n",
    "        k = torch.kron(torch.ones(len(g1.nodes)).to(device), n).view(len(g1.nodes), -1)\n",
    "        res = (k-e[1])**2\n",
    "        M[nodes_1[i]].append(nodes_2[int(torch.sum(res, 1).argmin())])\n",
    "    corr = 0\n",
    "    for i in M:\n",
    "        if i in M[i]:\n",
    "            corr += 1\n",
    "    align_ac.append(corr/len(M))\n"
   ]
  },
  {
   "cell_type": "code",
   "execution_count": 16,
   "metadata": {},
   "outputs": [
    {
     "data": {
      "text/plain": [
       "[0.7181818181818181]"
      ]
     },
     "execution_count": 16,
     "metadata": {},
     "output_type": "execute_result"
    }
   ],
   "source": [
    "align_ac"
   ]
  },
  {
   "cell_type": "code",
   "execution_count": 17,
   "metadata": {},
   "outputs": [],
   "source": [
    "import pandas as pd, matplotlib.pyplot as plt"
   ]
  },
  {
   "cell_type": "code",
   "execution_count": 18,
   "metadata": {},
   "outputs": [
    {
     "ename": "NameError",
     "evalue": "name 'loss_curve' is not defined",
     "output_type": "error",
     "traceback": [
      "\u001b[0;31m---------------------------------------------------------------------------\u001b[0m",
      "\u001b[0;31mNameError\u001b[0m                                 Traceback (most recent call last)",
      "Cell \u001b[0;32mIn[18], line 1\u001b[0m\n\u001b[0;32m----> 1\u001b[0m dat \u001b[38;5;241m=\u001b[39m pd\u001b[38;5;241m.\u001b[39mDataFrame({\u001b[38;5;124m'\u001b[39m\u001b[38;5;124mMCB Grid\u001b[39m\u001b[38;5;124m'\u001b[39m: \u001b[43mloss_curve\u001b[49m, \u001b[38;5;124m'\u001b[39m\u001b[38;5;124mAMG2013\u001b[39m\u001b[38;5;124m'\u001b[39m:amg_loss_curve})\n",
      "\u001b[0;31mNameError\u001b[0m: name 'loss_curve' is not defined"
     ]
    }
   ],
   "source": [
    "dat = pd.DataFrame({'MCB Grid': loss_curve, 'AMG2013':amg_loss_curve})"
   ]
  },
  {
   "cell_type": "code",
   "execution_count": null,
   "metadata": {},
   "outputs": [
    {
     "data": {
      "text/plain": [
       "<matplotlib.legend.Legend at 0x7fe5b9e35460>"
      ]
     },
     "execution_count": 61,
     "metadata": {},
     "output_type": "execute_result"
    },
    {
     "data": {
      "image/png": "[encoded data removed]",
      "text/plain": [
       "<Figure size 640x480 with 1 Axes>"
      ]
     },
     "metadata": {},
     "output_type": "display_data"
    }
   ],
   "source": [
    "dat.plot(grid=True, fontsize=20, legend=True, ylabel='Loss', xlabel='Training Epochs e-1' ).legend(fontsize=20)"
   ]
  },
  {
   "cell_type": "code",
   "execution_count": null,
   "metadata": {},
   "outputs": [
    {
     "data": {
      "text/plain": [
       "[]"
      ]
     },
     "execution_count": 60,
     "metadata": {},
     "output_type": "execute_result"
    }
   ],
   "source": []
  }
 ],
 "metadata": {
  "kernelspec": {
   "display_name": "Python 3",
   "language": "python",
   "name": "python3"
  },
  "language_info": {
   "codemirror_mode": {
    "name": "ipython",
    "version": 3
   },
   "file_extension": ".py",
   "mimetype": "text/x-python",
   "name": "python",
   "nbconvert_exporter": "python",
   "pygments_lexer": "ipython3",
   "version": "3.9.18"
  }
 },
 "nbformat": 4,
 "nbformat_minor": 0
}
